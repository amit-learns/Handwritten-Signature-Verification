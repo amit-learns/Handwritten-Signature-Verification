{
 "cells": [
  {
   "cell_type": "code",
   "execution_count": 1,
   "metadata": {},
   "outputs": [
    {
     "data": {
      "text/plain": [
       "'C:\\\\Users\\\\Amit kumar\\\\Desktop\\\\handwritten signature verification'"
      ]
     },
     "execution_count": 1,
     "metadata": {},
     "output_type": "execute_result"
    }
   ],
   "source": [
    "#start with checking datasets\n",
    "import os\n",
    "os.getcwd()"
   ]
  },
  {
   "cell_type": "code",
   "execution_count": 2,
   "metadata": {},
   "outputs": [
    {
     "data": {
      "text/plain": [
       "'C:\\\\Users\\\\Amit kumar\\\\Desktop\\\\handwritten signature verification\\\\datasets\\\\BHSig260'"
      ]
     },
     "execution_count": 2,
     "metadata": {},
     "output_type": "execute_result"
    }
   ],
   "source": [
    "#Changing path to datsets\n",
    "os.chdir(\"datasets\\\\BHSig260\")\n",
    "os.getcwd()"
   ]
  },
  {
   "cell_type": "code",
   "execution_count": 3,
   "metadata": {},
   "outputs": [],
   "source": [
    "path_hindi = \"./BHSig260/Hindi/\""
   ]
  },
  {
   "cell_type": "code",
   "execution_count": 9,
   "metadata": {},
   "outputs": [
    {
     "ename": "StopIteration",
     "evalue": "",
     "output_type": "error",
     "traceback": [
      "\u001b[1;31m---------------------------------------------------------------------------\u001b[0m",
      "\u001b[1;31mStopIteration\u001b[0m                             Traceback (most recent call last)",
      "\u001b[1;32m<ipython-input-9-9a44d2b72ec2>\u001b[0m in \u001b[0;36m<module>\u001b[1;34m\u001b[0m\n\u001b[1;32m----> 1\u001b[1;33m \u001b[0mnext\u001b[0m\u001b[1;33m(\u001b[0m\u001b[0mos\u001b[0m\u001b[1;33m.\u001b[0m\u001b[0mwalk\u001b[0m\u001b[1;33m(\u001b[0m\u001b[0mpath_hindi\u001b[0m\u001b[1;33m)\u001b[0m\u001b[1;33m)\u001b[0m\u001b[1;33m\u001b[0m\u001b[1;33m\u001b[0m\u001b[0m\n\u001b[0m",
      "\u001b[1;31mStopIteration\u001b[0m: "
     ]
    }
   ],
   "source": [
    "next(os.walk(path_hindi))"
   ]
  },
  {
   "cell_type": "code",
   "execution_count": 10,
   "metadata": {},
   "outputs": [
    {
     "ename": "StopIteration",
     "evalue": "",
     "output_type": "error",
     "traceback": [
      "\u001b[1;31m---------------------------------------------------------------------------\u001b[0m",
      "\u001b[1;31mStopIteration\u001b[0m                             Traceback (most recent call last)",
      "\u001b[1;32m<ipython-input-10-cf2ed99f73ec>\u001b[0m in \u001b[0;36m<module>\u001b[1;34m\u001b[0m\n\u001b[0;32m      1\u001b[0m \u001b[1;31m# Get the list of all directories and sort them\u001b[0m\u001b[1;33m\u001b[0m\u001b[1;33m\u001b[0m\u001b[1;33m\u001b[0m\u001b[0m\n\u001b[1;32m----> 2\u001b[1;33m \u001b[0mdir_list\u001b[0m \u001b[1;33m=\u001b[0m \u001b[0mnext\u001b[0m\u001b[1;33m(\u001b[0m\u001b[0mos\u001b[0m\u001b[1;33m.\u001b[0m\u001b[0mwalk\u001b[0m\u001b[1;33m(\u001b[0m\u001b[0mpath_hindi\u001b[0m\u001b[1;33m)\u001b[0m\u001b[1;33m)\u001b[0m\u001b[1;33m[\u001b[0m\u001b[1;36m1\u001b[0m\u001b[1;33m]\u001b[0m\u001b[1;33m\u001b[0m\u001b[1;33m\u001b[0m\u001b[0m\n\u001b[0m\u001b[0;32m      3\u001b[0m \u001b[0mdir_list\u001b[0m\u001b[1;33m.\u001b[0m\u001b[0msort\u001b[0m\u001b[1;33m(\u001b[0m\u001b[1;33m)\u001b[0m\u001b[1;33m\u001b[0m\u001b[1;33m\u001b[0m\u001b[0m\n",
      "\u001b[1;31mStopIteration\u001b[0m: "
     ]
    }
   ],
   "source": [
    "# Get the list of all directories and sort them\n",
    "dir_list = next(os.walk(path_hindi))[1]\n",
    "dir_list.sort()"
   ]
  },
  {
   "cell_type": "code",
   "execution_count": 11,
   "metadata": {},
   "outputs": [
    {
     "ename": "NameError",
     "evalue": "name 'dir_list' is not defined",
     "output_type": "error",
     "traceback": [
      "\u001b[1;31m---------------------------------------------------------------------------\u001b[0m",
      "\u001b[1;31mNameError\u001b[0m                                 Traceback (most recent call last)",
      "\u001b[1;32m<ipython-input-11-9220e904de6b>\u001b[0m in \u001b[0;36m<module>\u001b[1;34m\u001b[0m\n\u001b[0;32m      1\u001b[0m \u001b[0mdata_groups\u001b[0m \u001b[1;33m=\u001b[0m \u001b[1;33m[\u001b[0m\u001b[1;33m]\u001b[0m\u001b[1;33m\u001b[0m\u001b[1;33m\u001b[0m\u001b[0m\n\u001b[1;32m----> 2\u001b[1;33m \u001b[1;32mfor\u001b[0m \u001b[0mdirectory\u001b[0m \u001b[1;32min\u001b[0m \u001b[0mdir_list\u001b[0m\u001b[1;33m:\u001b[0m\u001b[1;33m\u001b[0m\u001b[1;33m\u001b[0m\u001b[0m\n\u001b[0m\u001b[0;32m      3\u001b[0m     \u001b[0mimages\u001b[0m \u001b[1;33m=\u001b[0m \u001b[0mos\u001b[0m\u001b[1;33m.\u001b[0m\u001b[0mlistdir\u001b[0m\u001b[1;33m(\u001b[0m\u001b[0mpath_hindi\u001b[0m\u001b[1;33m+\u001b[0m\u001b[0mdirectory\u001b[0m\u001b[1;33m)\u001b[0m\u001b[1;33m\u001b[0m\u001b[1;33m\u001b[0m\u001b[0m\n\u001b[0;32m      4\u001b[0m     \u001b[0mimages\u001b[0m\u001b[1;33m.\u001b[0m\u001b[0msort\u001b[0m\u001b[1;33m(\u001b[0m\u001b[1;33m)\u001b[0m\u001b[1;33m\u001b[0m\u001b[1;33m\u001b[0m\u001b[0m\n\u001b[0;32m      5\u001b[0m     \u001b[0mimages\u001b[0m \u001b[1;33m=\u001b[0m \u001b[1;33m[\u001b[0m\u001b[0mpath_hindi\u001b[0m\u001b[1;33m+\u001b[0m\u001b[0mdirectory\u001b[0m\u001b[1;33m+\u001b[0m\u001b[1;34m'/'\u001b[0m\u001b[1;33m+\u001b[0m\u001b[0mx\u001b[0m \u001b[1;32mfor\u001b[0m \u001b[0mx\u001b[0m \u001b[1;32min\u001b[0m \u001b[0mimages\u001b[0m\u001b[1;33m]\u001b[0m\u001b[1;33m\u001b[0m\u001b[1;33m\u001b[0m\u001b[0m\n",
      "\u001b[1;31mNameError\u001b[0m: name 'dir_list' is not defined"
     ]
    }
   ],
   "source": [
    "data_groups = []\n",
    "for directory in dir_list:\n",
    "    images = os.listdir(path_hindi+directory)\n",
    "    images.sort()\n",
    "    images = [path_hindi+directory+'/'+x for x in images]\n",
    "    data_groups.append(images)"
   ]
  },
  {
   "cell_type": "code",
   "execution_count": 7,
   "metadata": {},
   "outputs": [
    {
     "data": {
      "text/plain": [
       "[['./BHSig260/Hindi/001/H-S-1-F-01.tif',\n",
       "  './BHSig260/Hindi/001/H-S-1-F-02.tif',\n",
       "  './BHSig260/Hindi/001/H-S-1-F-03.tif',\n",
       "  './BHSig260/Hindi/001/H-S-1-F-04.tif',\n",
       "  './BHSig260/Hindi/001/H-S-1-F-05.tif',\n",
       "  './BHSig260/Hindi/001/H-S-1-F-06.tif',\n",
       "  './BHSig260/Hindi/001/H-S-1-F-07.tif',\n",
       "  './BHSig260/Hindi/001/H-S-1-F-08.tif',\n",
       "  './BHSig260/Hindi/001/H-S-1-F-09.tif',\n",
       "  './BHSig260/Hindi/001/H-S-1-F-10.tif',\n",
       "  './BHSig260/Hindi/001/H-S-1-F-11.tif',\n",
       "  './BHSig260/Hindi/001/H-S-1-F-12.tif',\n",
       "  './BHSig260/Hindi/001/H-S-1-F-13.tif',\n",
       "  './BHSig260/Hindi/001/H-S-1-F-14.tif',\n",
       "  './BHSig260/Hindi/001/H-S-1-F-15.tif',\n",
       "  './BHSig260/Hindi/001/H-S-1-F-16.tif',\n",
       "  './BHSig260/Hindi/001/H-S-1-F-17.tif',\n",
       "  './BHSig260/Hindi/001/H-S-1-F-18.tif',\n",
       "  './BHSig260/Hindi/001/H-S-1-F-19.tif',\n",
       "  './BHSig260/Hindi/001/H-S-1-F-20.tif',\n",
       "  './BHSig260/Hindi/001/H-S-1-F-21.tif',\n",
       "  './BHSig260/Hindi/001/H-S-1-F-22.tif',\n",
       "  './BHSig260/Hindi/001/H-S-1-F-23.tif',\n",
       "  './BHSig260/Hindi/001/H-S-1-F-24.tif',\n",
       "  './BHSig260/Hindi/001/H-S-1-F-25.tif',\n",
       "  './BHSig260/Hindi/001/H-S-1-F-26.tif',\n",
       "  './BHSig260/Hindi/001/H-S-1-F-27.tif',\n",
       "  './BHSig260/Hindi/001/H-S-1-F-28.tif',\n",
       "  './BHSig260/Hindi/001/H-S-1-F-29.tif',\n",
       "  './BHSig260/Hindi/001/H-S-1-F-30.tif',\n",
       "  './BHSig260/Hindi/001/H-S-1-G-01.tif',\n",
       "  './BHSig260/Hindi/001/H-S-1-G-02.tif',\n",
       "  './BHSig260/Hindi/001/H-S-1-G-03.tif',\n",
       "  './BHSig260/Hindi/001/H-S-1-G-04.tif',\n",
       "  './BHSig260/Hindi/001/H-S-1-G-05.tif',\n",
       "  './BHSig260/Hindi/001/H-S-1-G-06.tif',\n",
       "  './BHSig260/Hindi/001/H-S-1-G-07.tif',\n",
       "  './BHSig260/Hindi/001/H-S-1-G-08.tif',\n",
       "  './BHSig260/Hindi/001/H-S-1-G-09.tif',\n",
       "  './BHSig260/Hindi/001/H-S-1-G-10.tif',\n",
       "  './BHSig260/Hindi/001/H-S-1-G-11.tif',\n",
       "  './BHSig260/Hindi/001/H-S-1-G-12.tif',\n",
       "  './BHSig260/Hindi/001/H-S-1-G-13.tif',\n",
       "  './BHSig260/Hindi/001/H-S-1-G-14.tif',\n",
       "  './BHSig260/Hindi/001/H-S-1-G-15.tif',\n",
       "  './BHSig260/Hindi/001/H-S-1-G-16.tif',\n",
       "  './BHSig260/Hindi/001/H-S-1-G-17.tif',\n",
       "  './BHSig260/Hindi/001/H-S-1-G-18.tif',\n",
       "  './BHSig260/Hindi/001/H-S-1-G-19.tif',\n",
       "  './BHSig260/Hindi/001/H-S-1-G-20.tif',\n",
       "  './BHSig260/Hindi/001/H-S-1-G-21.tif',\n",
       "  './BHSig260/Hindi/001/H-S-1-G-22.tif',\n",
       "  './BHSig260/Hindi/001/H-S-1-G-23.tif',\n",
       "  './BHSig260/Hindi/001/H-S-1-G-24.tif'],\n",
       " ['./BHSig260/Hindi/002/H-S-2-F-01.tif',\n",
       "  './BHSig260/Hindi/002/H-S-2-F-02.tif',\n",
       "  './BHSig260/Hindi/002/H-S-2-F-03.tif',\n",
       "  './BHSig260/Hindi/002/H-S-2-F-04.tif',\n",
       "  './BHSig260/Hindi/002/H-S-2-F-05.tif',\n",
       "  './BHSig260/Hindi/002/H-S-2-F-06.tif',\n",
       "  './BHSig260/Hindi/002/H-S-2-F-07.tif',\n",
       "  './BHSig260/Hindi/002/H-S-2-F-08.tif',\n",
       "  './BHSig260/Hindi/002/H-S-2-F-09.tif',\n",
       "  './BHSig260/Hindi/002/H-S-2-F-10.tif',\n",
       "  './BHSig260/Hindi/002/H-S-2-F-11.tif',\n",
       "  './BHSig260/Hindi/002/H-S-2-F-12.tif',\n",
       "  './BHSig260/Hindi/002/H-S-2-F-13.tif',\n",
       "  './BHSig260/Hindi/002/H-S-2-F-14.tif',\n",
       "  './BHSig260/Hindi/002/H-S-2-F-15.tif',\n",
       "  './BHSig260/Hindi/002/H-S-2-F-16.tif',\n",
       "  './BHSig260/Hindi/002/H-S-2-F-17.tif',\n",
       "  './BHSig260/Hindi/002/H-S-2-F-18.tif',\n",
       "  './BHSig260/Hindi/002/H-S-2-F-19.tif',\n",
       "  './BHSig260/Hindi/002/H-S-2-F-20.tif',\n",
       "  './BHSig260/Hindi/002/H-S-2-F-21.tif',\n",
       "  './BHSig260/Hindi/002/H-S-2-F-22.tif',\n",
       "  './BHSig260/Hindi/002/H-S-2-F-23.tif',\n",
       "  './BHSig260/Hindi/002/H-S-2-F-24.tif',\n",
       "  './BHSig260/Hindi/002/H-S-2-F-25.tif',\n",
       "  './BHSig260/Hindi/002/H-S-2-F-26.tif',\n",
       "  './BHSig260/Hindi/002/H-S-2-F-27.tif',\n",
       "  './BHSig260/Hindi/002/H-S-2-F-28.tif',\n",
       "  './BHSig260/Hindi/002/H-S-2-F-29.tif',\n",
       "  './BHSig260/Hindi/002/H-S-2-F-30.tif',\n",
       "  './BHSig260/Hindi/002/H-S-2-G-01.tif',\n",
       "  './BHSig260/Hindi/002/H-S-2-G-02.tif',\n",
       "  './BHSig260/Hindi/002/H-S-2-G-03.tif',\n",
       "  './BHSig260/Hindi/002/H-S-2-G-04.tif',\n",
       "  './BHSig260/Hindi/002/H-S-2-G-05.tif',\n",
       "  './BHSig260/Hindi/002/H-S-2-G-06.tif',\n",
       "  './BHSig260/Hindi/002/H-S-2-G-07.tif',\n",
       "  './BHSig260/Hindi/002/H-S-2-G-08.tif',\n",
       "  './BHSig260/Hindi/002/H-S-2-G-09.tif',\n",
       "  './BHSig260/Hindi/002/H-S-2-G-10.tif',\n",
       "  './BHSig260/Hindi/002/H-S-2-G-11.tif',\n",
       "  './BHSig260/Hindi/002/H-S-2-G-12.tif',\n",
       "  './BHSig260/Hindi/002/H-S-2-G-13.tif',\n",
       "  './BHSig260/Hindi/002/H-S-2-G-14.tif',\n",
       "  './BHSig260/Hindi/002/H-S-2-G-15.tif',\n",
       "  './BHSig260/Hindi/002/H-S-2-G-16.tif',\n",
       "  './BHSig260/Hindi/002/H-S-2-G-17.tif',\n",
       "  './BHSig260/Hindi/002/H-S-2-G-18.tif',\n",
       "  './BHSig260/Hindi/002/H-S-2-G-19.tif',\n",
       "  './BHSig260/Hindi/002/H-S-2-G-20.tif',\n",
       "  './BHSig260/Hindi/002/H-S-2-G-21.tif',\n",
       "  './BHSig260/Hindi/002/H-S-2-G-22.tif',\n",
       "  './BHSig260/Hindi/002/H-S-2-G-23.tif',\n",
       "  './BHSig260/Hindi/002/H-S-2-G-24.tif']]"
      ]
     },
     "execution_count": 7,
     "metadata": {},
     "output_type": "execute_result"
    }
   ],
   "source": [
    "#how signatures images will be in data_groups\n",
    "data_groups[:2]"
   ]
  },
  {
   "cell_type": "code",
   "execution_count": 8,
   "metadata": {},
   "outputs": [],
   "source": [
    "path_bengali = \"./BHSig260/Bengali/\""
   ]
  },
  {
   "cell_type": "code",
   "execution_count": 9,
   "metadata": {},
   "outputs": [],
   "source": [
    "dir_list = next(os.walk(path_bengali))[1]\n",
    "dir_list.sort()"
   ]
  },
  {
   "cell_type": "code",
   "execution_count": 10,
   "metadata": {},
   "outputs": [],
   "source": [
    "for directory in dir_list:\n",
    "    images = os.listdir(path_bengali+directory)\n",
    "    images.sort()\n",
    "    images = [path_bengali+directory+'/'+x for x in images]\n",
    "    data_groups.append(images)"
   ]
  },
  {
   "cell_type": "code",
   "execution_count": 11,
   "metadata": {},
   "outputs": [],
   "source": [
    "#Now all the images from both Hindi and Bengali both the genuine and forged added to data groupes"
   ]
  },
  {
   "cell_type": "code",
   "execution_count": 12,
   "metadata": {},
   "outputs": [
    {
     "data": {
      "text/plain": [
       "260"
      ]
     },
     "execution_count": 12,
     "metadata": {},
     "output_type": "execute_result"
    }
   ],
   "source": [
    "# Quick check to confirm we have data of all the 160 individuals, Hindi 160, Bengali 100\n",
    "len(data_groups)"
   ]
  },
  {
   "cell_type": "code",
   "execution_count": 13,
   "metadata": {},
   "outputs": [
    {
     "name": "stdout",
     "output_type": "stream",
     "text": [
      "[54, 54, 54, 54, 54, 54, 54, 54, 54, 54, 54, 54, 54, 54, 54, 54, 54, 54, 54, 54, 54, 54, 54, 54, 54, 54, 54, 54, 54, 54, 54, 54, 54, 54, 54, 54, 54, 54, 54, 54, 54, 54, 54, 54, 54, 54, 54, 54, 54, 54, 54, 54, 54, 54, 54, 54, 54, 54, 54, 54, 54, 54, 54, 54, 54, 54, 54, 54, 54, 54, 54, 54, 54, 54, 54, 54, 54, 54, 54, 54, 54, 54, 54, 54, 54, 54, 54, 54, 54, 54, 54, 54, 54, 54, 54, 54, 54, 54, 54, 54, 54, 54, 54, 54, 54, 54, 54, 54, 54, 54, 54, 54, 54, 54, 54, 54, 54, 54, 54, 54, 54, 54, 54, 54, 54, 54, 54, 54, 54, 54, 54, 54, 54, 54, 54, 54, 54, 54, 54, 54, 54, 54, 54, 54, 54, 54, 54, 54, 54, 54, 54, 54, 54, 54, 54, 54, 54, 54, 54, 54, 54, 54, 54, 54, 54, 54, 54, 54, 54, 54, 54, 54, 54, 54, 54, 54, 54, 54, 54, 54, 54, 54, 54, 54, 54, 54, 54, 54, 54, 54, 54, 54, 54, 54, 54, 54, 54, 54, 54, 54, 54, 54, 54, 54, 54, 54, 54, 54, 54, 54, 54, 54, 54, 54, 54, 54, 54, 54, 54, 54, 54, 54, 54, 54, 54, 54, 54, 54, 54, 54, 54, 54, 54, 54, 54, 54, 54, 54, 54, 54, 54, 54, 54, 54, 54, 54, 54, 54, 54, 54, 54, 54, 54, 54, 54, 54, 54, 54, 54, 54]\n"
     ]
    }
   ],
   "source": [
    "data_lengths = [len(x) for x in data_groups]\n",
    "# Quick check to confirm that there are 24 Genuine signatures for each individual and 30 forged so total 54\n",
    "print(data_lengths)"
   ]
  },
  {
   "cell_type": "code",
   "execution_count": 14,
   "metadata": {},
   "outputs": [
    {
     "data": {
      "text/plain": [
       "'Train-Validation-Test Split\\nSignatures of 120 people are used for training\\nSignatures of 20 people are used for validation\\nSignatures of 20 people are used for testing'"
      ]
     },
     "execution_count": 14,
     "metadata": {},
     "output_type": "execute_result"
    }
   ],
   "source": [
    "\"\"\"Train-Validation-Test Split\n",
    "Signatures of 120 people are used for training\n",
    "Signatures of 20 people are used for validation\n",
    "Signatures of 20 people are used for testing\"\"\""
   ]
  },
  {
   "cell_type": "code",
   "execution_count": 18,
   "metadata": {},
   "outputs": [],
   "source": [
    "#approx to 2:8 ratio that gives better result as per research paper analysis\n",
    "from sklearn.model_selection import train_test_split\n",
    "train, test = train_test_split(data_groups, test_size=50/260, random_state=1)\n",
    "train, val = train_test_split(train, test_size=40/210, random_state=1)"
   ]
  },
  {
   "cell_type": "code",
   "execution_count": 19,
   "metadata": {},
   "outputs": [
    {
     "name": "stdout",
     "output_type": "stream",
     "text": [
      "170 40 50\n"
     ]
    }
   ],
   "source": [
    "#train, test and validation size\n",
    "train_size = len(train)\n",
    "test_size = len(test)\n",
    "val_size = len(val)\n",
    "print(len(train), len(val), len(test))"
   ]
  },
  {
   "cell_type": "code",
   "execution_count": 20,
   "metadata": {},
   "outputs": [],
   "source": [
    "# Delete unnecessary variables\n",
    "del data_groups"
   ]
  },
  {
   "cell_type": "code",
   "execution_count": 21,
   "metadata": {},
   "outputs": [],
   "source": [
    "# All the images will be converted to the same size before processing (from research paper)\n",
    "img_h, img_w = 64, 128"
   ]
  },
  {
   "cell_type": "code",
   "execution_count": 22,
   "metadata": {},
   "outputs": [],
   "source": [
    "#modules needed for plotting, data preprocessing and for other operations \n",
    "import sys\n",
    "import numpy as np\n",
    "import pickle\n",
    "import os\n",
    "import matplotlib.pyplot as plt\n",
    "%matplotlib inline\n",
    "\n",
    "import cv2\n",
    "import time\n",
    "import itertools\n",
    "import random\n",
    "\n",
    "from sklearn.utils import shuffle"
   ]
  },
  {
   "cell_type": "code",
   "execution_count": 23,
   "metadata": {},
   "outputs": [],
   "source": [
    "def visualize_sample_signature():\n",
    "    '''Function to randomly select a signature from train set and\n",
    "    print two genuine copies and one forged copy'''\n",
    "    fig, (ax1, ax2) = plt.subplots(1, 2, figsize = (10, 10))\n",
    "    k = np.random.randint(len(train))\n",
    "    img_names = random.sample(train[k], 2)\n",
    "    label1 = 0 if \"F\" in img_names[0] else 1\n",
    "    label2 = 0 if \"F\" in img_names[1] else 1\n",
    "    img1 = cv2.imread(img_names[0], 0)\n",
    "    img2 = cv2.imread(img_names[1], 0)\n",
    "    img1 = cv2.resize(img1, (img_w, img_h))\n",
    "    img2 = cv2.resize(img2, (img_w, img_h))\n",
    "\n",
    "    ax1.imshow(img1, cmap = 'gray')\n",
    "    ax2.imshow(img2, cmap = 'gray')\n",
    "\n",
    "    ax1.set_title('Genuine Copy' if label1 == 1 else 'Forged Copy')\n",
    "    ax1.axis('off')\n",
    "    ax2.set_title('Genuine Copy' if label2 == 1 else 'Forged Copy')\n",
    "    ax2.axis('off')\n",
    "    plt.show()"
   ]
  },
  {
   "cell_type": "code",
   "execution_count": 24,
   "metadata": {},
   "outputs": [
    {
     "data": {
      "image/png": "[encoded data removed]",
      "text/plain": [
       "<Figure size 720x720 with 2 Axes>"
      ]
     },
     "metadata": {
      "needs_background": "light"
     },
     "output_type": "display_data"
    }
   ],
   "source": [
    "visualize_sample_signature()"
   ]
  },
  {
   "cell_type": "code",
   "execution_count": 25,
   "metadata": {},
   "outputs": [
    {
     "data": {
      "image/png": "[encoded data removed]",
      "text/plain": [
       "<Figure size 720x720 with 2 Axes>"
      ]
     },
     "metadata": {
      "needs_background": "light"
     },
     "output_type": "display_data"
    }
   ],
   "source": [
    "visualize_sample_signature()"
   ]
  },
  {
   "cell_type": "code",
   "execution_count": 30,
   "metadata": {},
   "outputs": [],
   "source": [
    "# All the images will be converted to the same size before processing changing the size (different from paper)\n",
    "img_h, img_w = 155, 220"
   ]
  },
  {
   "cell_type": "code",
   "execution_count": 31,
   "metadata": {},
   "outputs": [
    {
     "data": {
      "image/png": "[encoded data removed]",
      "text/plain": [
       "<Figure size 720x720 with 2 Axes>"
      ]
     },
     "metadata": {
      "needs_background": "light"
     },
     "output_type": "display_data"
    }
   ],
   "source": [
    "visualize_sample_signature()"
   ]
  },
  {
   "cell_type": "code",
   "execution_count": 32,
   "metadata": {},
   "outputs": [
    {
     "data": {
      "image/png": "[encoded data removed]",
      "text/plain": [
       "<Figure size 720x720 with 2 Axes>"
      ]
     },
     "metadata": {
      "needs_background": "light"
     },
     "output_type": "display_data"
    }
   ],
   "source": [
    "visualize_sample_signature()"
   ]
  },
  {
   "cell_type": "code",
   "execution_count": 33,
   "metadata": {},
   "outputs": [
    {
     "data": {
      "image/png": "[encoded data removed]",
      "text/plain": [
       "<Figure size 720x720 with 2 Axes>"
      ]
     },
     "metadata": {
      "needs_background": "light"
     },
     "output_type": "display_data"
    }
   ],
   "source": [
    "visualize_sample_signature()"
   ]
  },
  {
   "cell_type": "code",
   "execution_count": 34,
   "metadata": {},
   "outputs": [
    {
     "data": {
      "image/png": "[encoded data removed]",
      "text/plain": [
       "<Figure size 720x720 with 2 Axes>"
      ]
     },
     "metadata": {
      "needs_background": "light"
     },
     "output_type": "display_data"
    }
   ],
   "source": [
    "visualize_sample_signature()"
   ]
  },
  {
   "cell_type": "code",
   "execution_count": 35,
   "metadata": {},
   "outputs": [
    {
     "data": {
      "image/png": "[encoded data removed]",
      "text/plain": [
       "<Figure size 720x720 with 2 Axes>"
      ]
     },
     "metadata": {
      "needs_background": "light"
     },
     "output_type": "display_data"
    }
   ],
   "source": [
    "visualize_sample_signature()"
   ]
  },
  {
   "cell_type": "code",
   "execution_count": 36,
   "metadata": {},
   "outputs": [
    {
     "data": {
      "image/png": "[encoded data removed]",
      "text/plain": [
       "<Figure size 720x720 with 2 Axes>"
      ]
     },
     "metadata": {
      "needs_background": "light"
     },
     "output_type": "display_data"
    }
   ],
   "source": [
    "visualize_sample_signature()"
   ]
  },
  {
   "cell_type": "code",
   "execution_count": 37,
   "metadata": {},
   "outputs": [
    {
     "data": {
      "image/png": "[encoded data removed]",
      "text/plain": [
       "<Figure size 720x720 with 2 Axes>"
      ]
     },
     "metadata": {
      "needs_background": "light"
     },
     "output_type": "display_data"
    }
   ],
   "source": [
    "visualize_sample_signature()"
   ]
  },
  {
   "cell_type": "code",
   "execution_count": 38,
   "metadata": {},
   "outputs": [],
   "source": [
    "def generate_batch(data_groups, batch_size = 32):\n",
    "    '''Function to generate a batch of data with batch_size number of data points\n",
    "    Half of the data points will be Genuine-Genuine pairs and half will be Genuine-Forged pairs'''\n",
    "    while True:\n",
    "        images = []\n",
    "        labels = []\n",
    "        for author in data_groups:\n",
    "            for image in author:\n",
    "                images.append(image)\n",
    "        \n",
    "        images = shuffle(images)\n",
    "        k = 0\n",
    "        batch=np.zeros((batch_size, img_h, img_w, 1))\n",
    "        targets=np.zeros((batch_size,))\n",
    "        for ix, image in enumerate(images):\n",
    "            img1 = cv2.imread(image, 0)\n",
    "            img1 = cv2.resize(img1, (img_w, img_h))\n",
    "            img1 = np.array(img1, dtype = np.float64)\n",
    "            img1 /= 255\n",
    "            img1 = img1[..., np.newaxis]\n",
    "            batch[k, :, :, :] = img1\n",
    "            targets[k] = 0 if 'F' in image else 1\n",
    "            k += 1\n",
    "            if k == batch_size:\n",
    "                yield batch, targets\n",
    "                k = 0\n",
    "                batch=np.zeros((batch_size, img_h, img_w, 1))\n",
    "                targets=np.zeros((batch_size,))"
   ]
  },
  {
   "cell_type": "code",
   "execution_count": 39,
   "metadata": {},
   "outputs": [],
   "source": [
    "def euclidean_distance(vects):\n",
    "    '''Compute Euclidean Distance between two vectors'''\n",
    "    x, y = vects\n",
    "    return K.sqrt(K.sum(K.square(x - y), axis=1, keepdims=True))"
   ]
  },
  {
   "cell_type": "code",
   "execution_count": 41,
   "metadata": {},
   "outputs": [],
   "source": [
    "def eucl_dist_output_shape(shapes):\n",
    "    shape1, shape2 = shapes\n",
    "    return (shape1[0], 1)"
   ]
  },
  {
   "cell_type": "code",
   "execution_count": 42,
   "metadata": {},
   "outputs": [
    {
     "name": "stderr",
     "output_type": "stream",
     "text": [
      "Using TensorFlow backend.\n"
     ]
    }
   ],
   "source": [
    "import keras\n",
    "from keras import models\n",
    "import tensorflow as tf\n",
    "from keras.models import Sequential\n",
    "from keras.optimizers import Adam, RMSprop\n",
    "from keras.layers import Conv2D, ZeroPadding2D, Activation, Input, concatenate, Dropout\n",
    "from keras.models import Model\n",
    "\n",
    "from keras.layers.normalization import BatchNormalization\n",
    "from keras.layers.pooling import MaxPooling2D\n",
    "from keras.layers.merge import Concatenate\n",
    "from keras.layers.core import Lambda, Flatten, Dense\n",
    "from keras.initializers import glorot_uniform\n",
    "\n",
    "from keras.engine.topology import Layer, InputSpec\n",
    "from keras.regularizers import l2\n",
    "from keras import backend as K\n",
    "import keras.backend.tensorflow_backend as tfback\n",
    "from keras.callbacks import EarlyStopping, ModelCheckpoint, ReduceLROnPlateau\n",
    "from keras.utils.multi_gpu_utils import multi_gpu_model"
   ]
  },
  {
   "cell_type": "code",
   "execution_count": 66,
   "metadata": {},
   "outputs": [],
   "source": [
    "#Base CNN for our implementation\n",
    "def CNN_sig(input_shape):\n",
    "    '''Base Network'''\n",
    "    \n",
    "    seq = Sequential()\n",
    "    seq.add(Conv2D(40, kernel_size=(7, 7), activation='relu', name='conv1_1', strides=1, input_shape= input_shape, \n",
    "                        init='glorot_uniform', dim_ordering='tf'))\n",
    "    seq.add(MaxPooling2D((2,2), strides=(2, 2)))    \n",
    "    \n",
    "    seq.add(Conv2D(30, kernel_size=(5, 5), activation='relu', name='conv2_1', strides=1, init='glorot_uniform',  dim_ordering='tf'))\n",
    "    seq.add(MaxPooling2D((3,3), strides=(3, 3)))\n",
    " \n",
    "    \n",
    "    seq.add(Conv2D(20, kernel_size=(3, 3), activation='relu', name='conv3_1', strides=1, init='glorot_uniform',  dim_ordering='tf'))\n",
    "    seq.add(MaxPooling2D((3,3), strides=(3, 3)))\n",
    "    seq.add(Dropout(0.3))# added extra\n",
    "    seq.add(Flatten(name='flatten'))\n",
    "    seq.add(Dense(160, activation='softmax'))\n",
    "    seq.add(Dropout(0.5))\n",
    "    seq.add(Dense(1))\n",
    "    \n",
    "    return seq"
   ]
  },
  {
   "cell_type": "code",
   "execution_count": 67,
   "metadata": {},
   "outputs": [],
   "source": [
    "input_shape=(img_h, img_w, 1)"
   ]
  },
  {
   "cell_type": "code",
   "execution_count": 68,
   "metadata": {},
   "outputs": [
    {
     "name": "stderr",
     "output_type": "stream",
     "text": [
      "C:\\Users\\Anshul\\.conda\\envs\\env1\\lib\\site-packages\\ipykernel_launcher.py:7: UserWarning: Update your `Conv2D` call to the Keras 2 API: `Conv2D(40, kernel_size=(7, 7), activation=\"relu\", name=\"conv1_1\", strides=1, input_shape=(155, 220,..., data_format=\"channels_last\", kernel_initializer=\"glorot_uniform\")`\n",
      "  import sys\n",
      "C:\\Users\\Anshul\\.conda\\envs\\env1\\lib\\site-packages\\ipykernel_launcher.py:10: UserWarning: Update your `Conv2D` call to the Keras 2 API: `Conv2D(30, kernel_size=(5, 5), activation=\"relu\", name=\"conv2_1\", strides=1, data_format=\"channels_last\", kernel_initializer=\"glorot_uniform\")`\n",
      "  # Remove the CWD from sys.path while we load stuff.\n",
      "C:\\Users\\Anshul\\.conda\\envs\\env1\\lib\\site-packages\\ipykernel_launcher.py:14: UserWarning: Update your `Conv2D` call to the Keras 2 API: `Conv2D(20, kernel_size=(3, 3), activation=\"relu\", name=\"conv3_1\", strides=1, data_format=\"channels_last\", kernel_initializer=\"glorot_uniform\")`\n",
      "  \n",
      "C:\\Users\\Anshul\\.conda\\envs\\env1\\lib\\site-packages\\ipykernel_launcher.py:16: UserWarning: Update your `Model` call to the Keras 2 API: `Model(inputs=[<tf.Tenso..., outputs=Tensor(\"se...)`\n",
      "  app.launch_new_instance()\n"
     ]
    }
   ],
   "source": [
    "# network definition\n",
    "base_network = CNN_sig(input_shape)\n",
    "\n",
    "input_a = Input(shape=(input_shape))\n",
    "# input_b = Input(shape=(input_shape))\n",
    "\n",
    "# because we re-use the same instance `base_network`,\n",
    "# the weights of the network\n",
    "# will be shared across the two branches\n",
    "processed_a = base_network(input_a)\n",
    "# processed_b = base_network(input_b)\n",
    "\n",
    "# Compute the Euclidean distance between the two vectors in the latent space\n",
    "# distance = Lambda(euclidean_distance, output_shape=eucl_dist_output_shape)([processed_a])\n",
    "# model = Model(input=[input_a, input_b], output=distance)\n",
    "model = Model(input=[input_a], output=processed_a)"
   ]
  },
  {
   "cell_type": "code",
   "execution_count": 69,
   "metadata": {},
   "outputs": [],
   "source": [
    "import tensorflow as tf"
   ]
  },
  {
   "cell_type": "code",
   "execution_count": 70,
   "metadata": {},
   "outputs": [],
   "source": [
    "#optimizer stotestic gradient desent with momentum as per paper\n",
    "opt = tf.keras.optimizers.SGD(learning_rate=0.0001, momentum=0.9)"
   ]
  },
  {
   "cell_type": "code",
   "execution_count": 79,
   "metadata": {},
   "outputs": [],
   "source": [
    "rms = RMSprop(lr=1e-4, rho=0.9, epsilon=1e-08)\n",
    "adam = Adam(learning_rate=1e-4, beta_1=0.9, beta_2=0.999, amsgrad=False)"
   ]
  },
  {
   "cell_type": "code",
   "execution_count": 80,
   "metadata": {},
   "outputs": [],
   "source": [
    "def contrastive_loss(y_true, y_pred):\n",
    "    margin = 1\n",
    "    return K.mean(y_true * K.square(y_pred) + (1 - y_true) * K.square(K.maximum(margin - y_pred, 0)))"
   ]
  },
  {
   "cell_type": "code",
   "execution_count": 81,
   "metadata": {},
   "outputs": [],
   "source": [
    "#values of loss, learning rate and optimizer are taken as per paper\n",
    "model.compile(loss=contrastive_loss, optimizer=rms)"
   ]
  },
  {
   "cell_type": "code",
   "execution_count": 82,
   "metadata": {},
   "outputs": [
    {
     "name": "stdout",
     "output_type": "stream",
     "text": [
      "Model: \"model_3\"\n",
      "_________________________________________________________________\n",
      "Layer (type)                 Output Shape              Param #   \n",
      "=================================================================\n",
      "input_3 (InputLayer)         (None, 155, 220, 1)       0         \n",
      "_________________________________________________________________\n",
      "sequential_5 (Sequential)    (None, 1)                 261771    \n",
      "=================================================================\n",
      "Total params: 261,771\n",
      "Trainable params: 261,771\n",
      "Non-trainable params: 0\n",
      "_________________________________________________________________\n"
     ]
    }
   ],
   "source": [
    "model.summary()"
   ]
  },
  {
   "cell_type": "code",
   "execution_count": 91,
   "metadata": {},
   "outputs": [],
   "source": [
    "\n",
    "# Using Keras Callbacks, save the model after every epoch\n",
    "# Reduce the learning rate by a factor of 0.1 if the validation loss does not improve for 5 epochs\n",
    "# Stop the training using early stopping if the validation loss does not improve for 12 epochs\n",
    "callbacks = [\n",
    "    EarlyStopping(patience=15, verbose=1),\n",
    "    ReduceLROnPlateau(factor=0.1, patience=5, min_lr=0.000001, verbose=1),\n",
    "    ModelCheckpoint('./BHSig260/Weights/cnn-bhsig260-full-xavier-{epoch:03d}.h5', verbose=1, save_weights_only=True)\n",
    "]"
   ]
  },
  {
   "cell_type": "code",
   "execution_count": 92,
   "metadata": {},
   "outputs": [
    {
     "data": {
      "text/plain": [
       "(170, 40, 50)"
      ]
     },
     "execution_count": 92,
     "metadata": {},
     "output_type": "execute_result"
    }
   ],
   "source": [
    "batch_sz = 32\n",
    "num_train_samples = train_size\n",
    "num_val_samples = val_size\n",
    "num_test_samples = test_size\n",
    "num_train_samples, num_val_samples, num_test_samples"
   ]
  },
  {
   "cell_type": "code",
   "execution_count": 93,
   "metadata": {},
   "outputs": [
    {
     "name": "stdout",
     "output_type": "stream",
     "text": [
      "Epoch 1/100\n",
      "5/5 [==============================] - 26s 5s/step - loss: 0.4361 - val_loss: 0.3048\n",
      "\n",
      "Epoch 00001: saving model to ./BHSig260/Weights/cnn-bhsig260-full-xavier-001.h5\n",
      "Epoch 2/100\n",
      "5/5 [==============================] - 18s 4s/step - loss: 0.4219 - val_loss: 0.5646\n",
      "\n",
      "Epoch 00002: saving model to ./BHSig260/Weights/cnn-bhsig260-full-xavier-002.h5\n",
      "Epoch 3/100\n",
      "5/5 [==============================] - 17s 3s/step - loss: 0.4147 - val_loss: 0.2261\n",
      "\n",
      "Epoch 00003: saving model to ./BHSig260/Weights/cnn-bhsig260-full-xavier-003.h5\n",
      "Epoch 4/100\n",
      "5/5 [==============================] - 17s 3s/step - loss: 0.3820 - val_loss: 0.4192\n",
      "\n",
      "Epoch 00004: saving model to ./BHSig260/Weights/cnn-bhsig260-full-xavier-004.h5\n",
      "Epoch 5/100\n",
      "5/5 [==============================] - 18s 4s/step - loss: 0.3989 - val_loss: 0.6031\n",
      "\n",
      "Epoch 00005: saving model to ./BHSig260/Weights/cnn-bhsig260-full-xavier-005.h5\n",
      "Epoch 6/100\n",
      "5/5 [==============================] - 17s 3s/step - loss: 0.3892 - val_loss: 0.3492\n",
      "\n",
      "Epoch 00006: saving model to ./BHSig260/Weights/cnn-bhsig260-full-xavier-006.h5\n",
      "Epoch 7/100\n",
      "5/5 [==============================] - 17s 3s/step - loss: 0.3745 - val_loss: 0.3478\n",
      "\n",
      "Epoch 00007: saving model to ./BHSig260/Weights/cnn-bhsig260-full-xavier-007.h5\n",
      "Epoch 8/100\n",
      "5/5 [==============================] - 20s 4s/step - loss: 0.4086 - val_loss: 0.4105\n",
      "\n",
      "Epoch 00008: ReduceLROnPlateau reducing learning rate to 9.999999747378752e-06.\n",
      "\n",
      "Epoch 00008: saving model to ./BHSig260/Weights/cnn-bhsig260-full-xavier-008.h5\n",
      "Epoch 9/100\n",
      "5/5 [==============================] - 20s 4s/step - loss: 0.3796 - val_loss: 0.4725\n",
      "\n",
      "Epoch 00009: saving model to ./BHSig260/Weights/cnn-bhsig260-full-xavier-009.h5\n",
      "Epoch 10/100\n",
      "5/5 [==============================] - 18s 4s/step - loss: 0.3719 - val_loss: 0.4722\n",
      "\n",
      "Epoch 00010: saving model to ./BHSig260/Weights/cnn-bhsig260-full-xavier-010.h5\n",
      "Epoch 11/100\n",
      "5/5 [==============================] - 17s 3s/step - loss: 0.3840 - val_loss: 0.3470\n",
      "\n",
      "Epoch 00011: saving model to ./BHSig260/Weights/cnn-bhsig260-full-xavier-011.h5\n",
      "Epoch 12/100\n",
      "5/5 [==============================] - 17s 3s/step - loss: 0.3615 - val_loss: 0.2845\n",
      "\n",
      "Epoch 00012: saving model to ./BHSig260/Weights/cnn-bhsig260-full-xavier-012.h5\n",
      "Epoch 13/100\n",
      "5/5 [==============================] - 18s 4s/step - loss: 0.4267 - val_loss: 0.4086\n",
      "\n",
      "Epoch 00013: ReduceLROnPlateau reducing learning rate to 1e-06.\n",
      "\n",
      "Epoch 00013: saving model to ./BHSig260/Weights/cnn-bhsig260-full-xavier-013.h5\n",
      "Epoch 14/100\n",
      "5/5 [==============================] - 17s 3s/step - loss: 0.3706 - val_loss: 0.5330\n",
      "\n",
      "Epoch 00014: saving model to ./BHSig260/Weights/cnn-bhsig260-full-xavier-014.h5\n",
      "Epoch 15/100\n",
      "5/5 [==============================] - 18s 4s/step - loss: 0.4255 - val_loss: 0.3462\n",
      "\n",
      "Epoch 00015: saving model to ./BHSig260/Weights/cnn-bhsig260-full-xavier-015.h5\n",
      "Epoch 16/100\n",
      "5/5 [==============================] - 20s 4s/step - loss: 0.3788 - val_loss: 0.4085\n",
      "\n",
      "Epoch 00016: saving model to ./BHSig260/Weights/cnn-bhsig260-full-xavier-016.h5\n",
      "Epoch 17/100\n",
      "5/5 [==============================] - 19s 4s/step - loss: 0.3984 - val_loss: 0.2842\n",
      "\n",
      "Epoch 00017: saving model to ./BHSig260/Weights/cnn-bhsig260-full-xavier-017.h5\n",
      "Epoch 18/100\n",
      "5/5 [==============================] - 17s 3s/step - loss: 0.4359 - val_loss: 0.5326\n",
      "\n",
      "Epoch 00018: saving model to ./BHSig260/Weights/cnn-bhsig260-full-xavier-018.h5\n",
      "Epoch 00018: early stopping\n"
     ]
    }
   ],
   "source": [
    "results = model.fit_generator(generate_batch(train, batch_sz),\n",
    "                              steps_per_epoch = num_train_samples//batch_sz,\n",
    "                              epochs = 100,\n",
    "                              validation_data = generate_batch(val, 10),\n",
    "                              validation_steps = num_val_samples//10,\n",
    "                              callbacks = callbacks)"
   ]
  },
  {
   "cell_type": "code",
   "execution_count": 96,
   "metadata": {},
   "outputs": [],
   "source": [
    "def compute_accuracy_roc(predictions, labels, plot_far_frr =False):\n",
    "    '''\n",
    "    Compute ROC accuracy with a range of thresholds on distances.\n",
    "    Plot FAR-FRR and P-R curves to measure performance on input set\n",
    "    '''\n",
    "    dmax = np.max(predictions)\n",
    "    dmin = np.min(predictions)\n",
    "    nsame = np.sum(labels == 1) #similar\n",
    "    ndiff = np.sum(labels == 0) #different\n",
    "    step = 0.00001\n",
    "    max_acc = 0\n",
    "    best_thresh = -1\n",
    "    frr_plot = []\n",
    "    far_plot = []\n",
    "    pr_plot = []\n",
    "    re_plot = []\n",
    "    ds = []\n",
    "    for d in np.arange(dmin, dmax+step, step):\n",
    "        idx1 = predictions.ravel() <= d #guessed genuine\n",
    "        idx2 = predictions.ravel() > d #guessed forged\n",
    "        tp = float(np.sum(labels[idx1] == 1))\n",
    "        tn = float(np.sum(labels[idx2] == 0))\n",
    "        fp = float(np.sum(labels[idx1] == 0))\n",
    "        fn = float(np.sum(labels[idx2] == 1))\n",
    "#         print(tp, tn, fp, fn)\n",
    "        tpr = float(np.sum(labels[idx1] == 1)) / nsame       \n",
    "        tnr = float(np.sum(labels[idx2] == 0)) / ndiff\n",
    "        \n",
    "        \n",
    "        acc = 0.5 * (tpr + tnr)\n",
    "        pr = tp / (tp + fp)\n",
    "        re = tp / (tp + fn)\n",
    "#       print ('ROC', acc, tpr, tnr)\n",
    "       \n",
    "        if (acc > max_acc):\n",
    "            max_acc, best_thresh = acc, d\n",
    "        \n",
    "        #if (fp+tn) != 0.0 and (fn+tp) != 0.0:\n",
    "        far = fp / (fp + tn)\n",
    "        frr = fn / (fn + tp)\n",
    "        frr_plot.append(frr)\n",
    "        pr_plot.append(pr)\n",
    "        re_plot.append(re)\n",
    "        far_plot.append(far)\n",
    "        ds.append(d)\n",
    "            \n",
    "    \n",
    "    if plot_far_frr:\n",
    "        fig = plt.figure(figsize = (10,10))\n",
    "        ax = fig.add_subplot(121)\n",
    "        ax.plot(ds, far_plot, color = 'red')\n",
    "        ax.plot(ds, frr_plot, color = 'blue')\n",
    "        ax.set_title('Error rate')\n",
    "        ax.legend(['FAR', 'FRR'])\n",
    "        ax.set(xlabel = 'Thresholds', ylabel = 'Error rate')\n",
    "        \n",
    "        ax1 = fig.add_subplot(122)\n",
    "        ax1.plot(ds, pr_plot, color = 'green')\n",
    "        ax1.plot(ds, re_plot, color = 'magenta')\n",
    "        ax1.set_title('P-R curve')\n",
    "        ax1.legend(['Precision', 'Recall'])\n",
    "        ax.set(xlabel = 'Thresholds', ylabel = 'Error rate')\n",
    "        \n",
    "        plt.show()\n",
    "    return max_acc, best_thresh"
   ]
  },
  {
   "cell_type": "code",
   "execution_count": 97,
   "metadata": {},
   "outputs": [],
   "source": [
    "# Load the weights from the epoch which gave the best validation accuracy\n",
    "\n",
    "def load_and_check_model(weight):\n",
    "    model.load_weights(weight)\n",
    "\n",
    "    val_gen = generate_batch(val, 1)\n",
    "    pred, tr_y = [], []\n",
    "    for i in range(num_val_samples):\n",
    "        img1, label = next(val_gen)\n",
    "        tr_y.append(label)\n",
    "        pred.append(model.predict(img1))\n",
    "\n",
    "    tr_acc, threshold = compute_accuracy_roc(np.array(pred), np.array(tr_y))\n",
    "    return tr_acc, threshold"
   ]
  },
  {
   "cell_type": "code",
   "execution_count": 98,
   "metadata": {},
   "outputs": [
    {
     "name": "stdout",
     "output_type": "stream",
     "text": [
      "For model 1 Validation Accuracy =  59.375 %\n",
      "For model 2 Validation Accuracy =  65.625 %\n",
      "For model 3 Validation Accuracy =  74.0 %\n",
      "For model 4 Validation Accuracy =  69.37321937321937 %\n",
      "For model 5 Validation Accuracy =  62.66666666666667 %\n",
      "For model 6 Validation Accuracy =  65.90909090909092 %\n",
      "For model 7 Validation Accuracy =  58.92857142857143 %\n",
      "For model 8 Validation Accuracy =  60.606060606060595 %\n",
      "For model 9 Validation Accuracy =  54.67032967032968 %\n",
      "For model 10 Validation Accuracy =  64.0 %\n",
      "For model 11 Validation Accuracy =  59.97442455242966 %\n",
      "For model 12 Validation Accuracy =  62.5 %\n",
      "For model 13 Validation Accuracy =  62.9156010230179 %\n",
      "For model 14 Validation Accuracy =  67.67676767676767 %\n",
      "For model 15 Validation Accuracy =  50.25575447570333 %\n",
      "For model 16 Validation Accuracy =  57.32323232323233 %\n",
      "For model 17 Validation Accuracy =  62.5 %\n"
     ]
    }
   ],
   "source": [
    "# BHSIG260 full dataset with Xavier Initialisation on Uniform Distribution\n",
    "acc_thresh = []\n",
    "for i in range(1,18,1):\n",
    "    acc_thresh.append(load_and_check_model('./BHSig260/Weights/cnn-bhsig260-full-xavier-'+str(i).zfill(3)+'.h5'))\n",
    "    print('For model '+str(i)+' Validation Accuracy = ',acc_thresh[i-1][0]*100,'%')"
   ]
  },
  {
   "cell_type": "code",
   "execution_count": 99,
   "metadata": {},
   "outputs": [],
   "source": [
    "def test_model(weight):\n",
    "    model.load_weights(weight)\n",
    "\n",
    "    test_gen = generate_batch(test, 1)\n",
    "    pred, tr_y = [], []\n",
    "    for i in range(num_test_samples):\n",
    "        img1, label = next(test_gen)\n",
    "        tr_y.append(label)\n",
    "        pred.append(model.predict(img1))\n",
    "\n",
    "    tr_acc, threshold = compute_accuracy_roc(np.array(pred), np.array(tr_y), plot_far_frr = True)\n",
    "    return tr_acc, threshold"
   ]
  },
  {
   "cell_type": "code",
   "execution_count": 100,
   "metadata": {},
   "outputs": [
    {
     "data": {
      "image/png": "[encoded data removed]",
      "text/plain": [
       "<Figure size 720x720 with 2 Axes>"
      ]
     },
     "metadata": {
      "needs_background": "light"
     },
     "output_type": "display_data"
    },
    {
     "data": {
      "text/plain": [
       "(0.6929392446633826, 0.1634850376081476)"
      ]
     },
     "execution_count": 100,
     "metadata": {},
     "output_type": "execute_result"
    }
   ],
   "source": [
    "acc, threshold = test_model('./BHSig260/Weights/cnn-bhsig260-full-xavier-002.h5')\n",
    "acc, threshold"
   ]
  },
  {
   "cell_type": "code",
   "execution_count": 101,
   "metadata": {},
   "outputs": [
    {
     "data": {
      "text/plain": [
       "'Accuracy = 70.00% and Threshold = 0.16 Using Xavier Initialisation on Uniform distribution'"
      ]
     },
     "execution_count": 101,
     "metadata": {},
     "output_type": "execute_result"
    }
   ],
   "source": [
    "\"\"\"Accuracy = 70.00% and Threshold = 0.16 Using Xavier Initialisation on Uniform distribution\"\"\""
   ]
  },
  {
   "cell_type": "code",
   "execution_count": 102,
   "metadata": {},
   "outputs": [],
   "source": [
    "def predict_score():\n",
    "    '''Predict distance score and classify test images as Genuine or Forged'''\n",
    "    test_gen = generate_batch(test, 1)\n",
    "    test_point, test_label = next(test_gen)\n",
    "    img1 = test_point\n",
    "    print('True Label = ',test_label)\n",
    "    fig, (ax1) = plt.subplots(1, 1, figsize = (8, 8))\n",
    "    ax1.imshow(np.squeeze(img1), cmap='gray')\n",
    "    result = model.predict(img1)\n",
    "    print(\"Predicted Label = \", result)\n",
    "    if result > threshold:\n",
    "        print(\"Its a Genuine Signature\")\n",
    "        ax1.set_title('Genuine')\n",
    "    else:\n",
    "        print(\"Its a Forged Signature\")\n",
    "        ax1.set_title('Forged')\n",
    "    ax1.axis('off')"
   ]
  },
  {
   "cell_type": "code",
   "execution_count": 103,
   "metadata": {},
   "outputs": [
    {
     "name": "stdout",
     "output_type": "stream",
     "text": [
      "True Label =  [1.]\n",
      "Predicted Label =  [[0.16414781]]\n",
      "Its a Genuine Signature\n"
     ]
    },
    {
     "data": {
      "image/png": "[encoded data removed]",
      "text/plain": [
       "<Figure size 576x576 with 1 Axes>"
      ]
     },
     "metadata": {
      "needs_background": "light"
     },
     "output_type": "display_data"
    }
   ],
   "source": [
    "predict_score()"
   ]
  },
  {
   "cell_type": "code",
   "execution_count": 104,
   "metadata": {},
   "outputs": [
    {
     "name": "stdout",
     "output_type": "stream",
     "text": [
      "True Label =  [1.]\n",
      "Predicted Label =  [[0.16286795]]\n",
      "Its a Forged Signature\n"
     ]
    },
    {
     "data": {
      "image/png": "[encoded data removed]",
      "text/plain": [
       "<Figure size 576x576 with 1 Axes>"
      ]
     },
     "metadata": {
      "needs_background": "light"
     },
     "output_type": "display_data"
    }
   ],
   "source": [
    "predict_score()\n"
   ]
  },
  {
   "cell_type": "code",
   "execution_count": 105,
   "metadata": {},
   "outputs": [
    {
     "name": "stdout",
     "output_type": "stream",
     "text": [
      "True Label =  [0.]\n",
      "Predicted Label =  [[0.16417697]]\n",
      "Its a Genuine Signature\n"
     ]
    },
    {
     "data": {
      "image/png": "[encoded data removed]",
      "text/plain": [
       "<Figure size 576x576 with 1 Axes>"
      ]
     },
     "metadata": {
      "needs_background": "light"
     },
     "output_type": "display_data"
    }
   ],
   "source": [
    "predict_score()"
   ]
  },
  {
   "cell_type": "code",
   "execution_count": 106,
   "metadata": {},
   "outputs": [
    {
     "name": "stdout",
     "output_type": "stream",
     "text": [
      "True Label =  [0.]\n",
      "Predicted Label =  [[0.16333437]]\n",
      "Its a Forged Signature\n"
     ]
    },
    {
     "data": {
      "image/png": "[encoded data removed]",
      "text/plain": [
       "<Figure size 576x576 with 1 Axes>"
      ]
     },
     "metadata": {
      "needs_background": "light"
     },
     "output_type": "display_data"
    }
   ],
   "source": [
    "predict_score()"
   ]
  },
  {
   "cell_type": "code",
   "execution_count": null,
   "metadata": {},
   "outputs": [],
   "source": []
  }
 ],
 "metadata": {
  "kernelspec": {
   "display_name": "Python 3",
   "language": "python",
   "name": "python3"
  },
  "language_info": {
   "codemirror_mode": {
    "name": "ipython",
    "version": 3
   },
   "file_extension": ".py",
   "mimetype": "text/x-python",
   "name": "python",
   "nbconvert_exporter": "python",
   "pygments_lexer": "ipython3",
   "version": "3.7.7"
  }
 },
 "nbformat": 4,
 "nbformat_minor": 4
}
